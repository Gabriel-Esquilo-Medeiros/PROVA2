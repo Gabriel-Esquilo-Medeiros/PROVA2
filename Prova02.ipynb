{
 "cells": [
  {
   "cell_type": "code",
   "execution_count": 95,
   "id": "f62026a2-aa8e-4dc1-aa96-c595da8a008c",
   "metadata": {},
   "outputs": [],
   "source": [
    "from random import seed\n",
    "consumo_diario = [50, 45, 55, 60, 48, 52, 47, 49, 53, 51, 50, 46, 54, 61, 49, 53, 48, 50, 52, 47, 56, 50, 55, 60, 48, 52, 47, 49, 53, 51]\n",
    "seed = [30]"
   ]
  },
  {
   "cell_type": "code",
   "execution_count": 105,
   "id": "a8ab8e40-81fe-4e5e-a87e-8db4e2077e5d",
   "metadata": {},
   "outputs": [],
   "source": [
    "def consumo(lista):\n",
    "    consumo_medio = sum(consumo_diario) / len(consumo_diario)\n",
    "    return(consumo_medio)"
   ]
  },
  {
   "cell_type": "code",
   "execution_count": 107,
   "id": "f9c93f11-2387-4e43-87d2-3269802d5cc2",
   "metadata": {},
   "outputs": [
    {
     "name": "stdout",
     "output_type": "stream",
     "text": [
      "A média de consumo diário de energia de sua empresa é: 51.36666666666667 \n"
     ]
    }
   ],
   "source": [
    "print(f\"A média de consumo diário de energia de sua empresa é: {consumo(consumo)} \")"
   ]
  }
 ],
 "metadata": {
  "kernelspec": {
   "display_name": "Python [conda env:base] *",
   "language": "python",
   "name": "conda-base-py"
  },
  "language_info": {
   "codemirror_mode": {
    "name": "ipython",
    "version": 3
   },
   "file_extension": ".py",
   "mimetype": "text/x-python",
   "name": "python",
   "nbconvert_exporter": "python",
   "pygments_lexer": "ipython3",
   "version": "3.12.7"
  }
 },
 "nbformat": 4,
 "nbformat_minor": 5
}
